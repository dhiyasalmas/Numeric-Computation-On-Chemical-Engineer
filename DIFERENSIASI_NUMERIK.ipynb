{
  "nbformat": 4,
  "nbformat_minor": 0,
  "metadata": {
    "colab": {
      "provenance": []
    },
    "kernelspec": {
      "name": "python3",
      "display_name": "Python 3"
    },
    "language_info": {
      "name": "python"
    }
  },
  "cells": [
    {
      "cell_type": "markdown",
      "source": [
        "# **Forward Difference**"
      ],
      "metadata": {
        "id": "SLG5K71L0yld"
      }
    },
    {
      "cell_type": "code",
      "execution_count": null,
      "metadata": {
        "colab": {
          "base_uri": "https://localhost:8080/"
        },
        "id": "1EL19nzVvTYK",
        "outputId": "5355e810-2be8-4a04-9d18-ffe21ce68f08"
      },
      "outputs": [
        {
          "output_type": "stream",
          "name": "stdout",
          "text": [
            "masukkan banyak variabel :2\n",
            "masukkan nilai x :0.333333333\n",
            "masukkan nilai x :0.25\n",
            "apakah persamaan memiliki konstanta [y/n] ?y\n",
            "masukkan nilai konstanta: 1\n",
            "Maka hasil turunannya adalah: \n",
            "1.5012503323319493\n"
          ]
        }
      ],
      "source": [
        "x = 1\n",
        "e = 0.001\n",
        "nilai_x = list()\n",
        "banyak_x = int(input(\"masukkan banyak variabel :\"))\n",
        "for i in range (banyak_x):\n",
        "  nilai_x.append(float(input(\"masukkan nilai x :\")))\n",
        "#print(nilai_x)\n",
        "ressult1 = list()\n",
        "ressult2 = list()\n",
        "banyak_x += 1\n",
        "for r in range (len(nilai_x)):\n",
        "  res1 = (nilai_x[r]*((x+e)**(banyak_x)))\n",
        "  ressult1.append(res1)\n",
        "  #print(ressult1)\n",
        "  res2 = (nilai_x[r]*((x)**(banyak_x)))\n",
        "  ressult2.append(res2)\n",
        "  #print(ressult2)\n",
        "  r += 1\n",
        "  banyak_x -= 1\n",
        "konstanta = (input(\"apakah persamaan memiliki konstanta [y/n] ?\"))\n",
        "if konstanta == \"y\":\n",
        "  c = (int(input(\"masukkan nilai konstanta: \")))\n",
        "  ressult1.append(c)\n",
        "  ressult2.append(c)\n",
        "  print(\"Maka hasil turunannya adalah: \")\n",
        "  ressult = (sum(ressult1)-sum(ressult2))/e\n",
        "  print(ressult)\n",
        "if konstanta == \"n\":\n",
        "  print(\"Maka hasilnya adalah: \")\n",
        "  ressultt = (sum(ressult1)-sum(ressult2))/e\n",
        "  print(ressultt)"
      ]
    },
    {
      "cell_type": "markdown",
      "source": [
        "# **Backward Difference**"
      ],
      "metadata": {
        "id": "3ErJV5YyHqAn"
      }
    },
    {
      "cell_type": "code",
      "source": [
        "x = 1\n",
        "e = 0.001\n",
        "nilai_x = list()\n",
        "banyak_x = int(input(\"masukkan banyak variabel :\"))\n",
        "for i in range (banyak_x):\n",
        "  nilai_x.append(float(input(\"masukkan nilai x :\")))\n",
        "#print(nilai_x)\n",
        "ressult1 = list()\n",
        "ressult2 = list()\n",
        "banyak_x += 1\n",
        "for r in range (len(nilai_x)):\n",
        "  res1 = (nilai_x[r]*((x)**(banyak_x)))\n",
        "  ressult1.append(res1)\n",
        "  #print(ressult1)\n",
        "  res2 = (nilai_x[r]*((x-e)**(banyak_x)))\n",
        "  ressult2.append(res2)\n",
        "  #print(ressult2)\n",
        "  r += 1\n",
        "  banyak_x -= 1\n",
        "konstanta = (input(\"apakah persamaan memiliki konstanta [y/n] ?\"))\n",
        "if konstanta == \"y\":\n",
        "  c = (int(input(\"masukkan nilai konstanta: \")))\n",
        "  ressult1.append(c)\n",
        "  ressult2.append(c)\n",
        "  print(\"Maka hasil turunannya adalah: \")\n",
        "  ressult = (sum(ressult1)-sum(ressult2))/e\n",
        "  print(ressult)\n",
        "if konstanta == \"n\":\n",
        "  print(\"Maka hasilnya adalah: \")\n",
        "  ressultt = (sum(ressult1)-sum(ressult2))/e\n",
        "  print(ressultt)"
      ],
      "metadata": {
        "colab": {
          "base_uri": "https://localhost:8080/"
        },
        "id": "BF9ETVFSHqQo",
        "outputId": "59b3be3d-b4d2-4717-e785-548950ebbcad"
      },
      "execution_count": null,
      "outputs": [
        {
          "output_type": "stream",
          "name": "stdout",
          "text": [
            "masukkan banyak variabel :2\n",
            "masukkan nilai x :0.33333333333\n",
            "masukkan nilai x :0.25\n",
            "apakah persamaan memiliki konstanta [y/n] ?y\n",
            "masukkan nilai konstanta: 1\n",
            "Maka hasil turunannya adalah: \n",
            "1.498750333323251\n"
          ]
        }
      ]
    },
    {
      "cell_type": "markdown",
      "source": [
        "# **Central Difference**"
      ],
      "metadata": {
        "id": "lQGf7d_oICnH"
      }
    },
    {
      "cell_type": "code",
      "source": [
        "x = 1\n",
        "e = 0.001\n",
        "nilai_x = list()\n",
        "banyak_x = int(input(\"masukkan banyak variabel :\"))\n",
        "for i in range (banyak_x):\n",
        "  nilai_x.append(float(input(\"masukkan nilai x :\")))\n",
        "#print(nilai_x)\n",
        "ressult1 = list()\n",
        "ressult2 = list()\n",
        "banyak_x += 1\n",
        "for r in range (len(nilai_x)):\n",
        "  res1 = (nilai_x[r]*((x+e)**(banyak_x)))\n",
        "  ressult1.append(res1)\n",
        "  #print(ressult1)\n",
        "  res2 = (nilai_x[r]*((x-e)**(banyak_x)))\n",
        "  ressult2.append(res2)\n",
        "  #print(ressult2)\n",
        "  r += 1\n",
        "  banyak_x -= 1\n",
        "konstanta = (input(\"apakah persamaan memiliki konstanta [y/n] ?\"))\n",
        "if konstanta == \"y\":\n",
        "  c = (int(input(\"masukkan nilai konstanta: \")))\n",
        "  ressult1.append(c)\n",
        "  ressult2.append(c)\n",
        "  print(ressult1)\n",
        "  print(ressult2)\n",
        "  print(sum(ressult1))\n",
        "  print(sum(ressult2))\n",
        "  print(\"Maka hasil turunannya adalah: \")\n",
        "  ressult = (sum(ressult1)-sum(ressult2))/(2*e)\n",
        "  print(ressult)\n",
        "if konstanta == \"n\":\n",
        "  print(\"Maka hasilnya adalah: \")\n",
        "  ressultt = (sum(ressult1)-sum(ressult2))/e\n",
        "  print(ressultt)"
      ],
      "metadata": {
        "colab": {
          "base_uri": "https://localhost:8080/"
        },
        "id": "Vme2t4HxIAnS",
        "outputId": "c29b25a6-39dc-43fa-c8d8-443d145f039e"
      },
      "execution_count": null,
      "outputs": [
        {
          "output_type": "stream",
          "name": "stdout",
          "text": [
            "masukkan banyak variabel :2\n",
            "masukkan nilai x :0.33333333333\n",
            "masukkan nilai x :0.25\n",
            "apakah persamaan memiliki konstanta [y/n] ?y\n",
            "masukkan nilai konstanta: 1\n",
            "[0.3343343336633232, 0.2505002499999999, 1]\n",
            "[0.33233433299667664, 0.24950025, 1]\n",
            "1.584834583663323\n",
            "1.5818345829966767\n",
            "Maka hasil turunannya adalah: \n",
            "1.5000003333232037\n"
          ]
        }
      ]
    }
  ]
}