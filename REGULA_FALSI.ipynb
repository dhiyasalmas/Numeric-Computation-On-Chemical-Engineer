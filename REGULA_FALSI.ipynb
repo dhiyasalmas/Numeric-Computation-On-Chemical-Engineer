{
  "nbformat": 4,
  "nbformat_minor": 0,
  "metadata": {
    "colab": {
      "provenance": []
    },
    "kernelspec": {
      "name": "python3",
      "display_name": "Python 3"
    },
    "language_info": {
      "name": "python"
    }
  },
  "cells": [
    {
      "cell_type": "code",
      "execution_count": null,
      "metadata": {
        "id": "O3KxbxbZY_Ej"
      },
      "outputs": [],
      "source": [
        " import numpy as np"
      ]
    },
    {
      "cell_type": "code",
      "source": [
        "#Persamaan\n",
        "def f(x):\n",
        "  y = x**3 - 4*x +1\n",
        "  return y\n",
        "#Rumus Regula Falsi\n",
        "def RegulaFalsi(f, L, U):\n",
        "  R = U - (f(U) * (L - U))/(f(L) - f(U))\n",
        "  return R\n",
        "#Update akar\n",
        "def FPM(f, L, U):\n",
        "  R = RegulaFalsi(f, L, U)\n",
        "  while abs(f(R)) > 1e-3:\n",
        "    if f(L) * f(R) < 0:\n",
        "      U = R\n",
        "    elif f(U) * f(R) < 0:\n",
        "      L = R\n",
        "    elif f(R) == 0:\n",
        "      return R\n",
        "    R = RegulaFalsi(f, L, U)\n",
        "    return R\n",
        "Akar = FPM(f, 0, 1)\n",
        "print (\"\\n Nilai Akar = \", Akar)"
      ],
      "metadata": {
        "colab": {
          "base_uri": "https://localhost:8080/"
        },
        "id": "W1tL5_90ZTO8",
        "outputId": "ded5ef32-8f57-432e-d905-e5439b8bb8aa"
      },
      "execution_count": null,
      "outputs": [
        {
          "output_type": "stream",
          "name": "stdout",
          "text": [
            "\n",
            " The calculated root =  0.2571428571428571\n"
          ]
        }
      ]
    }
  ]
}